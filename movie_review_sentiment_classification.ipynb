{
  "cells": [
    {
      "cell_type": "markdown",
      "metadata": {
        "id": "-TJ6hOxS8RAQ"
      },
      "source": [
        "# **Sentiment Classification Model using Bi-Gram Model**"
      ]
    },
    {
      "cell_type": "code",
      "execution_count": 388,
      "metadata": {
        "id": "Qaq_11EZ46-8"
      },
      "outputs": [],
      "source": [
        "import nltk\n",
        "from nltk.tokenize import sent_tokenize, word_tokenize\n",
        "from nltk.corpus import stopwords\n",
        "from nltk import bigrams\n",
        "from nltk.stem import WordNetLemmatizer\n",
        "from nltk import pos_tag\n",
        "import string\n",
        "import re"
      ]
    },
    {
      "cell_type": "markdown",
      "metadata": {
        "id": "-n31vESA8pNU"
      },
      "source": [
        "### **Import and download necessary libraries**"
      ]
    },
    {
      "cell_type": "code",
      "execution_count": 389,
      "metadata": {
        "colab": {
          "base_uri": "https://localhost:8080/"
        },
        "id": "kIPCb6tV5JyT",
        "outputId": "6a700b1f-cc2d-4d5d-a7d0-37580dd96367"
      },
      "outputs": [
        {
          "name": "stderr",
          "output_type": "stream",
          "text": [
            "[nltk_data] Downloading package punkt to /root/nltk_data...\n",
            "[nltk_data]   Package punkt is already up-to-date!\n",
            "[nltk_data] Downloading package stopwords to /root/nltk_data...\n",
            "[nltk_data]   Package stopwords is already up-to-date!\n",
            "[nltk_data] Downloading package wordnet to /root/nltk_data...\n",
            "[nltk_data]   Package wordnet is already up-to-date!\n",
            "[nltk_data] Downloading package averaged_perceptron_tagger to\n",
            "[nltk_data]     /root/nltk_data...\n",
            "[nltk_data]   Package averaged_perceptron_tagger is already up-to-\n",
            "[nltk_data]       date!\n"
          ]
        },
        {
          "data": {
            "text/plain": [
              "True"
            ]
          },
          "execution_count": 389,
          "metadata": {},
          "output_type": "execute_result"
        }
      ],
      "source": [
        "nltk.download('punkt')\n",
        "nltk.download('stopwords')\n",
        "nltk.download('wordnet')\n",
        "nltk.download('averaged_perceptron_tagger')"
      ]
    },
    {
      "cell_type": "markdown",
      "metadata": {
        "id": "wncy-g5U9S3N"
      },
      "source": [
        "### **Read Text Data**"
      ]
    },
    {
      "cell_type": "code",
      "execution_count": 414,
      "metadata": {
        "id": "TtdzyPPJ5NDt"
      },
      "outputs": [],
      "source": [
        "# Read the text data from the file\n",
        "with open(\"Movie_Reviews.txt\", \"r\") as file:\n",
        "    m_reviews = file.read()"
      ]
    },
    {
      "cell_type": "markdown",
      "metadata": {
        "id": "V32ExOxyHMMN"
      },
      "source": [
        "### **Seperate the Movie Reviews into Positive and Negative**"
      ]
    },
    {
      "cell_type": "code",
      "execution_count": 415,
      "metadata": {
        "id": "xy-Whn4HwRsx"
      },
      "outputs": [],
      "source": [
        "# Split the content based on the headers of positive and negative reviews\n",
        "positive_reviews_begin = m_reviews.find(\"Positive Reviews\")\n",
        "negative_reviews_begin = m_reviews.find(\"Negative Reviews\")"
      ]
    },
    {
      "cell_type": "code",
      "execution_count": 416,
      "metadata": {
        "id": "FB6DFWqvckpM"
      },
      "outputs": [],
      "source": [
        "# Extract the positive reviews\n",
        "positive_reviews = m_reviews[positive_reviews_begin:negative_reviews_begin].strip()\n",
        "\n",
        "# Find the index of \"================\"\n",
        "divider_index = positive_reviews.find(\"\\n================\")\n",
        "\n",
        "# Remove the line after \"================\"\n",
        "if divider_index != -1:\n",
        "    positive_reviews = positive_reviews[divider_index + len(\"\\n================\"):]\n",
        "\n",
        "# Split the positive reviews by newline\n",
        "list_positive_reviews = positive_reviews.split('\\n')\n"
      ]
    },
    {
      "cell_type": "code",
      "execution_count": 417,
      "metadata": {
        "id": "_K5QZijo11Mb"
      },
      "outputs": [],
      "source": [
        "# Remove the initial header\n",
        "list_positive_reviews = [review for review in list_positive_reviews if review]"
      ]
    },
    {
      "cell_type": "code",
      "execution_count": 418,
      "metadata": {
        "id": "LpUWWz9y15GS"
      },
      "outputs": [],
      "source": [
        "# Extract the negative reviews\n",
        "negative_reviews = m_reviews[negative_reviews_begin:].strip()\n",
        "\n",
        "# Find the index of \"================\"\n",
        "divider_index = negative_reviews.find(\"\\n================\")\n",
        "\n",
        "# Remove the line after \"================\"\n",
        "if divider_index != -1:\n",
        "    negative_reviews = negative_reviews[divider_index + len(\"\\n================\"):]\n",
        "\n",
        "# Split the negative reviews by newline and filter out empty reviews\n",
        "list_negative_reviews = [review for review in negative_reviews.split('\\n') if review]\n"
      ]
    },
    {
      "cell_type": "code",
      "execution_count": 419,
      "metadata": {
        "id": "nt46_RW32HgC"
      },
      "outputs": [],
      "source": [
        "# Remove the initial header\n",
        "list_negative_reviews = [review for review in list_negative_reviews if review]"
      ]
    },
    {
      "cell_type": "code",
      "execution_count": 420,
      "metadata": {
        "colab": {
          "base_uri": "https://localhost:8080/"
        },
        "id": "jtaiWZfQ2-Bo",
        "outputId": "dc9b3d55-8500-49ac-e3a6-564287c91d70"
      },
      "outputs": [
        {
          "name": "stdout",
          "output_type": "stream",
          "text": [
            "['1. \"Forrest Gump is an absolute masterpiece! Tom Hanks delivers an unforgettable performance, and the storytelling is heartwarming. This movie is a journey through life that will make you laugh, cry, and appreciate the simple beauties of existence.\"', '2. \"The Shawshank Redemption is a timeless classic. The powerful themes of hope, friendship, and redemption make it a must-watch. Morgan Freeman and Tim Robbins give exceptional performances in this brilliantly crafted film.\"', '3. \"The epic conclusion to The Lord of the Rings trilogy, The Return of the King, is a cinematic triumph. The breathtaking visuals, epic battles, and emotionally resonant story make it a monumental achievement in filmmaking.\"', '4. \"La La Land is a love letter to the magic of Hollywood and dreams. The chemistry between Ryan Gosling and Emma Stone is enchanting, and the music and dance sequences are a pure delight. A modern musical masterpiece.\"', '5. \"Wes Anderson\\'s whimsical style shines in The Grand Budapest Hotel. With its quirky characters and colorful cinematography, it\\'s a visual and narrative delight. This film is a charming and delightful experience.\"', '6.\"Inception is mind-bending brilliance! Christopher Nolan\\'s intricate plot, stunning visual effects, and Hans Zimmer\\'s haunting score create a cinematic journey that keeps you on the edge of your seat. A true masterpiece of sci-fi cinema.\"', '7. \"The Social Network is a captivating exploration of the creation of Facebook and the personal and legal conflicts that ensued. David Fincher\\'s direction and Aaron Sorkin\\'s sharp screenplay make this film a modern classic.\"', '8. \"Will Smith\\'s portrayal of Chris Gardner in The Pursuit of Happyness is both touching and inspirational. This film reminds us that with determination and unwavering spirit, anyone can overcome adversity to achieve their dreams.\"', '9. \"Eternal Sunshine of the Spotless Mind is a beautifully unconventional love story. Jim Carrey and Kate Winslet shine in their roles, and the narrative, told in a non-linear fashion, is a poignant exploration of love, memories, and human connection.\"', '10. \"The Princess Bride is a timeless fairy tale with a perfect blend of humor, romance, and adventure. Its witty dialogue and memorable characters make it a film that appeals to both kids and adults. Inconceivably delightful!\"', '11. \"Fifty Shades of Grey\" has managed to captivate both enthusiasts and critics alike. The film\\'s ability to spark passionate discussions and elicit a wide range of opinions is a testament to its impact. While some may find it controversial, there\\'s no denying that it has left a significant mark on the world of cinema.', '12. \"This film has been a conversation starter, and it\\'s clear that it won\\'t be everyone\\'s cup of tea. But for those willing to approach it with an open mind, there\\'s a visually lush experience with moments of genuine chemistry between the leads. It\\'s a film that has managed to offer something different and intriguing in the world of romance and drama.\"']\n",
            "['1. \"The Last Airbender is a disaster of a film adaptation. It butchers the beloved animated series with wooden acting, convoluted storytelling, and cringe-worthy special effects. A letdown for fans and newcomers alike.\"', '2. \"Another Transformers movie, and it\\'s just more of the same: mindless explosions, incoherent plotlines, and an overreliance on CGI. This franchise desperately needs an overhaul.\"', '3. \"The Emoji Movie is a blatant cash grab with a shallow, uninspired plot. It fails to deliver clever humor or meaningful messages, making it a forgettable and disappointing animated film.\"', '4. \"Fifty Shades of Grey is a cringe-inducing attempt at romance. Poorly written dialogue and unconvincing chemistry between the leads make it an awkward and unfulfilling cinematic experience.\"', '5. \"Jack and Jill is an unbearable comedy that relies on stale humor and a painfully unfunny portrayal of Adam Sandler in a dual role. It\\'s a prime example of lazy filmmaking.\"', '6. \"Superman IV is a colossal disappointment. It\\'s marred by a low budget, laughable special effects, and a poorly conceived story. Even Christopher Reeve\\'s charm can\\'t save this mess.\"', '7. \"The Cat in the Hat is a chaotic and misguided adaptation of Dr. Seuss\\'s classic. It sacrifices the charm and simplicity of the source material for crude humor and a lackluster narrative.\"', '8. \"The Room is widely regarded as one of the worst films ever made. Its disjointed plot, stilted acting, and bizarre dialogue have turned it into a cult classic, but not for the right reasons.\"', '9. \"Battlefield Earth is a sci-fi disaster. It\\'s a convoluted mess with hammy acting and laughable special effects. A film that should have remained buried in the annals of cinematic history.\"', '10. \"Gigli is a train wreck of a romantic comedy. The pairing of Ben Affleck and Jennifer Lopez is devoid of chemistry, and the dialogue is cringeworthy. It\\'s an embarrassing misstep in both their careers.\"', '11. \"Fifty Shades of Grey\" is a film that has divided enthusiasts and critics. While it has its share of devoted fans, it also faces substantial criticism. For some, the film\\'s content and execution leave much to be desired, making it a polarizing cinematic experience. Viewer reactions may vary widely, so it\\'s a movie that evokes strong opinions on both ends of the spectrum.', '12. \"This film\\'s portrayal of relationships and themes may leave many viewers uncomfortable. It tests the limits of what some may find acceptable in mainstream cinema. So, while the idea of keeping an open mind is essential in film-watching, this particular movie might push that openness to its boundaries for some.\"', '=====================================================================', \"It's clear that the movie has both its enthusiasts and critics. While it may not be to everyone's taste, it's worth watching with an open mind to form your own opinion.\"]\n"
          ]
        }
      ],
      "source": [
        "print(list_positive_reviews)\n",
        "print(list_negative_reviews)"
      ]
    },
    {
      "cell_type": "markdown",
      "metadata": {
        "id": "5-yiaaR3H5kD"
      },
      "source": [
        "# **Preprocessing**"
      ]
    },
    {
      "cell_type": "markdown",
      "metadata": {
        "id": "DR8z0rMkIF7C"
      },
      "source": [
        "### **Remove punctuation**"
      ]
    },
    {
      "cell_type": "code",
      "execution_count": 421,
      "metadata": {
        "id": "vEuE_4mv3gkJ"
      },
      "outputs": [],
      "source": [
        "# Function to remove punctuation\n",
        "def remove_punctuations(text):\n",
        "    return re.sub(r'[^\\w\\s]', '', text)\n",
        "\n",
        "# Remove punctuation from positive and negative reviews\n",
        "positive_reviews_after_remove__punct = [remove_punctuations(review) for review in list_positive_reviews]\n",
        "negative_reviews_after_remove__punct= [remove_punctuations(review) for review in list_negative_reviews]"
      ]
    },
    {
      "cell_type": "code",
      "execution_count": 423,
      "metadata": {
        "colab": {
          "base_uri": "https://localhost:8080/"
        },
        "id": "QTblWsQCVCYU",
        "outputId": "4a148d5a-1c88-4824-cb70-2a6ab6fda9a9"
      },
      "outputs": [
        {
          "name": "stdout",
          "output_type": "stream",
          "text": [
            "Positive Reviews: ['1 Forrest Gump is an absolute masterpiece Tom Hanks delivers an unforgettable performance and the storytelling is heartwarming This movie is a journey through life that will make you laugh cry and appreciate the simple beauties of existence', '2 The Shawshank Redemption is a timeless classic The powerful themes of hope friendship and redemption make it a mustwatch Morgan Freeman and Tim Robbins give exceptional performances in this brilliantly crafted film', '3 The epic conclusion to The Lord of the Rings trilogy The Return of the King is a cinematic triumph The breathtaking visuals epic battles and emotionally resonant story make it a monumental achievement in filmmaking', '4 La La Land is a love letter to the magic of Hollywood and dreams The chemistry between Ryan Gosling and Emma Stone is enchanting and the music and dance sequences are a pure delight A modern musical masterpiece', '5 Wes Andersons whimsical style shines in The Grand Budapest Hotel With its quirky characters and colorful cinematography its a visual and narrative delight This film is a charming and delightful experience', '6Inception is mindbending brilliance Christopher Nolans intricate plot stunning visual effects and Hans Zimmers haunting score create a cinematic journey that keeps you on the edge of your seat A true masterpiece of scifi cinema', '7 The Social Network is a captivating exploration of the creation of Facebook and the personal and legal conflicts that ensued David Finchers direction and Aaron Sorkins sharp screenplay make this film a modern classic', '8 Will Smiths portrayal of Chris Gardner in The Pursuit of Happyness is both touching and inspirational This film reminds us that with determination and unwavering spirit anyone can overcome adversity to achieve their dreams', '9 Eternal Sunshine of the Spotless Mind is a beautifully unconventional love story Jim Carrey and Kate Winslet shine in their roles and the narrative told in a nonlinear fashion is a poignant exploration of love memories and human connection', '10 The Princess Bride is a timeless fairy tale with a perfect blend of humor romance and adventure Its witty dialogue and memorable characters make it a film that appeals to both kids and adults Inconceivably delightful', '11 Fifty Shades of Grey has managed to captivate both enthusiasts and critics alike The films ability to spark passionate discussions and elicit a wide range of opinions is a testament to its impact While some may find it controversial theres no denying that it has left a significant mark on the world of cinema', '12 This film has been a conversation starter and its clear that it wont be everyones cup of tea But for those willing to approach it with an open mind theres a visually lush experience with moments of genuine chemistry between the leads Its a film that has managed to offer something different and intriguing in the world of romance and drama']\n",
            "Negative Reviews: ['1 The Last Airbender is a disaster of a film adaptation It butchers the beloved animated series with wooden acting convoluted storytelling and cringeworthy special effects A letdown for fans and newcomers alike', '2 Another Transformers movie and its just more of the same mindless explosions incoherent plotlines and an overreliance on CGI This franchise desperately needs an overhaul', '3 The Emoji Movie is a blatant cash grab with a shallow uninspired plot It fails to deliver clever humor or meaningful messages making it a forgettable and disappointing animated film', '4 Fifty Shades of Grey is a cringeinducing attempt at romance Poorly written dialogue and unconvincing chemistry between the leads make it an awkward and unfulfilling cinematic experience', '5 Jack and Jill is an unbearable comedy that relies on stale humor and a painfully unfunny portrayal of Adam Sandler in a dual role Its a prime example of lazy filmmaking', '6 Superman IV is a colossal disappointment Its marred by a low budget laughable special effects and a poorly conceived story Even Christopher Reeves charm cant save this mess', '7 The Cat in the Hat is a chaotic and misguided adaptation of Dr Seusss classic It sacrifices the charm and simplicity of the source material for crude humor and a lackluster narrative', '8 The Room is widely regarded as one of the worst films ever made Its disjointed plot stilted acting and bizarre dialogue have turned it into a cult classic but not for the right reasons', '9 Battlefield Earth is a scifi disaster Its a convoluted mess with hammy acting and laughable special effects A film that should have remained buried in the annals of cinematic history', '10 Gigli is a train wreck of a romantic comedy The pairing of Ben Affleck and Jennifer Lopez is devoid of chemistry and the dialogue is cringeworthy Its an embarrassing misstep in both their careers', '11 Fifty Shades of Grey is a film that has divided enthusiasts and critics While it has its share of devoted fans it also faces substantial criticism For some the films content and execution leave much to be desired making it a polarizing cinematic experience Viewer reactions may vary widely so its a movie that evokes strong opinions on both ends of the spectrum', '12 This films portrayal of relationships and themes may leave many viewers uncomfortable It tests the limits of what some may find acceptable in mainstream cinema So while the idea of keeping an open mind is essential in filmwatching this particular movie might push that openness to its boundaries for some', '', 'Its clear that the movie has both its enthusiasts and critics While it may not be to everyones taste its worth watching with an open mind to form your own opinion']\n"
          ]
        }
      ],
      "source": [
        "# Display the reviews without punctuation\n",
        "print(\"Positive Reviews:\", positive_reviews_after_remove__punct)\n",
        "print(\"Negative Reviews:\", negative_reviews_after_remove__punct)"
      ]
    },
    {
      "cell_type": "markdown",
      "metadata": {
        "id": "SGmswik3IOG_"
      },
      "source": [
        "### **Convert into Lowercase**"
      ]
    },
    {
      "cell_type": "code",
      "execution_count": 424,
      "metadata": {
        "id": "3_HW4S1O2OBb"
      },
      "outputs": [],
      "source": [
        "# Convert positive and negative reviews to lowercase\n",
        "lower_positive_reviews = [review.lower() for review in positive_reviews_after_remove__punct]\n",
        "lower_negative_reviews= [review.lower() for review in negative_reviews_after_remove__punct]"
      ]
    },
    {
      "cell_type": "code",
      "execution_count": 425,
      "metadata": {
        "colab": {
          "base_uri": "https://localhost:8080/"
        },
        "id": "5FKgb4A2VHrH",
        "outputId": "1ad304a4-6687-426f-f813-1c2183358c14"
      },
      "outputs": [
        {
          "name": "stdout",
          "output_type": "stream",
          "text": [
            "Positive Reviews: ['1 forrest gump is an absolute masterpiece tom hanks delivers an unforgettable performance and the storytelling is heartwarming this movie is a journey through life that will make you laugh cry and appreciate the simple beauties of existence', '2 the shawshank redemption is a timeless classic the powerful themes of hope friendship and redemption make it a mustwatch morgan freeman and tim robbins give exceptional performances in this brilliantly crafted film', '3 the epic conclusion to the lord of the rings trilogy the return of the king is a cinematic triumph the breathtaking visuals epic battles and emotionally resonant story make it a monumental achievement in filmmaking', '4 la la land is a love letter to the magic of hollywood and dreams the chemistry between ryan gosling and emma stone is enchanting and the music and dance sequences are a pure delight a modern musical masterpiece', '5 wes andersons whimsical style shines in the grand budapest hotel with its quirky characters and colorful cinematography its a visual and narrative delight this film is a charming and delightful experience', '6inception is mindbending brilliance christopher nolans intricate plot stunning visual effects and hans zimmers haunting score create a cinematic journey that keeps you on the edge of your seat a true masterpiece of scifi cinema', '7 the social network is a captivating exploration of the creation of facebook and the personal and legal conflicts that ensued david finchers direction and aaron sorkins sharp screenplay make this film a modern classic', '8 will smiths portrayal of chris gardner in the pursuit of happyness is both touching and inspirational this film reminds us that with determination and unwavering spirit anyone can overcome adversity to achieve their dreams', '9 eternal sunshine of the spotless mind is a beautifully unconventional love story jim carrey and kate winslet shine in their roles and the narrative told in a nonlinear fashion is a poignant exploration of love memories and human connection', '10 the princess bride is a timeless fairy tale with a perfect blend of humor romance and adventure its witty dialogue and memorable characters make it a film that appeals to both kids and adults inconceivably delightful', '11 fifty shades of grey has managed to captivate both enthusiasts and critics alike the films ability to spark passionate discussions and elicit a wide range of opinions is a testament to its impact while some may find it controversial theres no denying that it has left a significant mark on the world of cinema', '12 this film has been a conversation starter and its clear that it wont be everyones cup of tea but for those willing to approach it with an open mind theres a visually lush experience with moments of genuine chemistry between the leads its a film that has managed to offer something different and intriguing in the world of romance and drama']\n",
            "Negative Reviews: ['1 the last airbender is a disaster of a film adaptation it butchers the beloved animated series with wooden acting convoluted storytelling and cringeworthy special effects a letdown for fans and newcomers alike', '2 another transformers movie and its just more of the same mindless explosions incoherent plotlines and an overreliance on cgi this franchise desperately needs an overhaul', '3 the emoji movie is a blatant cash grab with a shallow uninspired plot it fails to deliver clever humor or meaningful messages making it a forgettable and disappointing animated film', '4 fifty shades of grey is a cringeinducing attempt at romance poorly written dialogue and unconvincing chemistry between the leads make it an awkward and unfulfilling cinematic experience', '5 jack and jill is an unbearable comedy that relies on stale humor and a painfully unfunny portrayal of adam sandler in a dual role its a prime example of lazy filmmaking', '6 superman iv is a colossal disappointment its marred by a low budget laughable special effects and a poorly conceived story even christopher reeves charm cant save this mess', '7 the cat in the hat is a chaotic and misguided adaptation of dr seusss classic it sacrifices the charm and simplicity of the source material for crude humor and a lackluster narrative', '8 the room is widely regarded as one of the worst films ever made its disjointed plot stilted acting and bizarre dialogue have turned it into a cult classic but not for the right reasons', '9 battlefield earth is a scifi disaster its a convoluted mess with hammy acting and laughable special effects a film that should have remained buried in the annals of cinematic history', '10 gigli is a train wreck of a romantic comedy the pairing of ben affleck and jennifer lopez is devoid of chemistry and the dialogue is cringeworthy its an embarrassing misstep in both their careers', '11 fifty shades of grey is a film that has divided enthusiasts and critics while it has its share of devoted fans it also faces substantial criticism for some the films content and execution leave much to be desired making it a polarizing cinematic experience viewer reactions may vary widely so its a movie that evokes strong opinions on both ends of the spectrum', '12 this films portrayal of relationships and themes may leave many viewers uncomfortable it tests the limits of what some may find acceptable in mainstream cinema so while the idea of keeping an open mind is essential in filmwatching this particular movie might push that openness to its boundaries for some', '', 'its clear that the movie has both its enthusiasts and critics while it may not be to everyones taste its worth watching with an open mind to form your own opinion']\n"
          ]
        }
      ],
      "source": [
        "# Display the lowercase reviews\n",
        "print(\"Positive Reviews:\", lower_positive_reviews)\n",
        "print(\"Negative Reviews:\", lower_negative_reviews)"
      ]
    },
    {
      "cell_type": "markdown",
      "metadata": {
        "id": "2pnSpvO7IUkE"
      },
      "source": [
        "### **Word Tokenization**"
      ]
    },
    {
      "cell_type": "code",
      "execution_count": 426,
      "metadata": {
        "id": "7zRW7RdNF3e8"
      },
      "outputs": [],
      "source": [
        "# Function to tokenize words\n",
        "def tokenize(sentences):\n",
        "    all_words = []\n",
        "    for sentence in sentences:\n",
        "        words = word_tokenize(sentence)\n",
        "        all_words.extend(words)\n",
        "    return all_words"
      ]
    },
    {
      "cell_type": "code",
      "execution_count": 427,
      "metadata": {
        "colab": {
          "base_uri": "https://localhost:8080/"
        },
        "id": "PEXtt_JJGBcN",
        "outputId": "b99a7f63-29fb-4aae-d11f-ccbb8b4888b8"
      },
      "outputs": [
        {
          "name": "stdout",
          "output_type": "stream",
          "text": [
            "Positive Reviews: ['1', 'forrest', 'gump', 'is', 'an', 'absolute', 'masterpiece', 'tom', 'hanks', 'delivers', 'an', 'unforgettable', 'performance', 'and', 'the', 'storytelling', 'is', 'heartwarming', 'this', 'movie', 'is', 'a', 'journey', 'through', 'life', 'that', 'will', 'make', 'you', 'laugh', 'cry', 'and', 'appreciate', 'the', 'simple', 'beauties', 'of', 'existence', '2', 'the', 'shawshank', 'redemption', 'is', 'a', 'timeless', 'classic', 'the', 'powerful', 'themes', 'of', 'hope', 'friendship', 'and', 'redemption', 'make', 'it', 'a', 'mustwatch', 'morgan', 'freeman', 'and', 'tim', 'robbins', 'give', 'exceptional', 'performances', 'in', 'this', 'brilliantly', 'crafted', 'film', '3', 'the', 'epic', 'conclusion', 'to', 'the', 'lord', 'of', 'the', 'rings', 'trilogy', 'the', 'return', 'of', 'the', 'king', 'is', 'a', 'cinematic', 'triumph', 'the', 'breathtaking', 'visuals', 'epic', 'battles', 'and', 'emotionally', 'resonant', 'story', 'make', 'it', 'a', 'monumental', 'achievement', 'in', 'filmmaking', '4', 'la', 'la', 'land', 'is', 'a', 'love', 'letter', 'to', 'the', 'magic', 'of', 'hollywood', 'and', 'dreams', 'the', 'chemistry', 'between', 'ryan', 'gosling', 'and', 'emma', 'stone', 'is', 'enchanting', 'and', 'the', 'music', 'and', 'dance', 'sequences', 'are', 'a', 'pure', 'delight', 'a', 'modern', 'musical', 'masterpiece', '5', 'wes', 'andersons', 'whimsical', 'style', 'shines', 'in', 'the', 'grand', 'budapest', 'hotel', 'with', 'its', 'quirky', 'characters', 'and', 'colorful', 'cinematography', 'its', 'a', 'visual', 'and', 'narrative', 'delight', 'this', 'film', 'is', 'a', 'charming', 'and', 'delightful', 'experience', '6inception', 'is', 'mindbending', 'brilliance', 'christopher', 'nolans', 'intricate', 'plot', 'stunning', 'visual', 'effects', 'and', 'hans', 'zimmers', 'haunting', 'score', 'create', 'a', 'cinematic', 'journey', 'that', 'keeps', 'you', 'on', 'the', 'edge', 'of', 'your', 'seat', 'a', 'true', 'masterpiece', 'of', 'scifi', 'cinema', '7', 'the', 'social', 'network', 'is', 'a', 'captivating', 'exploration', 'of', 'the', 'creation', 'of', 'facebook', 'and', 'the', 'personal', 'and', 'legal', 'conflicts', 'that', 'ensued', 'david', 'finchers', 'direction', 'and', 'aaron', 'sorkins', 'sharp', 'screenplay', 'make', 'this', 'film', 'a', 'modern', 'classic', '8', 'will', 'smiths', 'portrayal', 'of', 'chris', 'gardner', 'in', 'the', 'pursuit', 'of', 'happyness', 'is', 'both', 'touching', 'and', 'inspirational', 'this', 'film', 'reminds', 'us', 'that', 'with', 'determination', 'and', 'unwavering', 'spirit', 'anyone', 'can', 'overcome', 'adversity', 'to', 'achieve', 'their', 'dreams', '9', 'eternal', 'sunshine', 'of', 'the', 'spotless', 'mind', 'is', 'a', 'beautifully', 'unconventional', 'love', 'story', 'jim', 'carrey', 'and', 'kate', 'winslet', 'shine', 'in', 'their', 'roles', 'and', 'the', 'narrative', 'told', 'in', 'a', 'nonlinear', 'fashion', 'is', 'a', 'poignant', 'exploration', 'of', 'love', 'memories', 'and', 'human', 'connection', '10', 'the', 'princess', 'bride', 'is', 'a', 'timeless', 'fairy', 'tale', 'with', 'a', 'perfect', 'blend', 'of', 'humor', 'romance', 'and', 'adventure', 'its', 'witty', 'dialogue', 'and', 'memorable', 'characters', 'make', 'it', 'a', 'film', 'that', 'appeals', 'to', 'both', 'kids', 'and', 'adults', 'inconceivably', 'delightful', '11', 'fifty', 'shades', 'of', 'grey', 'has', 'managed', 'to', 'captivate', 'both', 'enthusiasts', 'and', 'critics', 'alike', 'the', 'films', 'ability', 'to', 'spark', 'passionate', 'discussions', 'and', 'elicit', 'a', 'wide', 'range', 'of', 'opinions', 'is', 'a', 'testament', 'to', 'its', 'impact', 'while', 'some', 'may', 'find', 'it', 'controversial', 'theres', 'no', 'denying', 'that', 'it', 'has', 'left', 'a', 'significant', 'mark', 'on', 'the', 'world', 'of', 'cinema', '12', 'this', 'film', 'has', 'been', 'a', 'conversation', 'starter', 'and', 'its', 'clear', 'that', 'it', 'wont', 'be', 'everyones', 'cup', 'of', 'tea', 'but', 'for', 'those', 'willing', 'to', 'approach', 'it', 'with', 'an', 'open', 'mind', 'theres', 'a', 'visually', 'lush', 'experience', 'with', 'moments', 'of', 'genuine', 'chemistry', 'between', 'the', 'leads', 'its', 'a', 'film', 'that', 'has', 'managed', 'to', 'offer', 'something', 'different', 'and', 'intriguing', 'in', 'the', 'world', 'of', 'romance', 'and', 'drama']\n",
            "Negative Reviews: ['1', 'the', 'last', 'airbender', 'is', 'a', 'disaster', 'of', 'a', 'film', 'adaptation', 'it', 'butchers', 'the', 'beloved', 'animated', 'series', 'with', 'wooden', 'acting', 'convoluted', 'storytelling', 'and', 'cringeworthy', 'special', 'effects', 'a', 'letdown', 'for', 'fans', 'and', 'newcomers', 'alike', '2', 'another', 'transformers', 'movie', 'and', 'its', 'just', 'more', 'of', 'the', 'same', 'mindless', 'explosions', 'incoherent', 'plotlines', 'and', 'an', 'overreliance', 'on', 'cgi', 'this', 'franchise', 'desperately', 'needs', 'an', 'overhaul', '3', 'the', 'emoji', 'movie', 'is', 'a', 'blatant', 'cash', 'grab', 'with', 'a', 'shallow', 'uninspired', 'plot', 'it', 'fails', 'to', 'deliver', 'clever', 'humor', 'or', 'meaningful', 'messages', 'making', 'it', 'a', 'forgettable', 'and', 'disappointing', 'animated', 'film', '4', 'fifty', 'shades', 'of', 'grey', 'is', 'a', 'cringeinducing', 'attempt', 'at', 'romance', 'poorly', 'written', 'dialogue', 'and', 'unconvincing', 'chemistry', 'between', 'the', 'leads', 'make', 'it', 'an', 'awkward', 'and', 'unfulfilling', 'cinematic', 'experience', '5', 'jack', 'and', 'jill', 'is', 'an', 'unbearable', 'comedy', 'that', 'relies', 'on', 'stale', 'humor', 'and', 'a', 'painfully', 'unfunny', 'portrayal', 'of', 'adam', 'sandler', 'in', 'a', 'dual', 'role', 'its', 'a', 'prime', 'example', 'of', 'lazy', 'filmmaking', '6', 'superman', 'iv', 'is', 'a', 'colossal', 'disappointment', 'its', 'marred', 'by', 'a', 'low', 'budget', 'laughable', 'special', 'effects', 'and', 'a', 'poorly', 'conceived', 'story', 'even', 'christopher', 'reeves', 'charm', 'cant', 'save', 'this', 'mess', '7', 'the', 'cat', 'in', 'the', 'hat', 'is', 'a', 'chaotic', 'and', 'misguided', 'adaptation', 'of', 'dr', 'seusss', 'classic', 'it', 'sacrifices', 'the', 'charm', 'and', 'simplicity', 'of', 'the', 'source', 'material', 'for', 'crude', 'humor', 'and', 'a', 'lackluster', 'narrative', '8', 'the', 'room', 'is', 'widely', 'regarded', 'as', 'one', 'of', 'the', 'worst', 'films', 'ever', 'made', 'its', 'disjointed', 'plot', 'stilted', 'acting', 'and', 'bizarre', 'dialogue', 'have', 'turned', 'it', 'into', 'a', 'cult', 'classic', 'but', 'not', 'for', 'the', 'right', 'reasons', '9', 'battlefield', 'earth', 'is', 'a', 'scifi', 'disaster', 'its', 'a', 'convoluted', 'mess', 'with', 'hammy', 'acting', 'and', 'laughable', 'special', 'effects', 'a', 'film', 'that', 'should', 'have', 'remained', 'buried', 'in', 'the', 'annals', 'of', 'cinematic', 'history', '10', 'gigli', 'is', 'a', 'train', 'wreck', 'of', 'a', 'romantic', 'comedy', 'the', 'pairing', 'of', 'ben', 'affleck', 'and', 'jennifer', 'lopez', 'is', 'devoid', 'of', 'chemistry', 'and', 'the', 'dialogue', 'is', 'cringeworthy', 'its', 'an', 'embarrassing', 'misstep', 'in', 'both', 'their', 'careers', '11', 'fifty', 'shades', 'of', 'grey', 'is', 'a', 'film', 'that', 'has', 'divided', 'enthusiasts', 'and', 'critics', 'while', 'it', 'has', 'its', 'share', 'of', 'devoted', 'fans', 'it', 'also', 'faces', 'substantial', 'criticism', 'for', 'some', 'the', 'films', 'content', 'and', 'execution', 'leave', 'much', 'to', 'be', 'desired', 'making', 'it', 'a', 'polarizing', 'cinematic', 'experience', 'viewer', 'reactions', 'may', 'vary', 'widely', 'so', 'its', 'a', 'movie', 'that', 'evokes', 'strong', 'opinions', 'on', 'both', 'ends', 'of', 'the', 'spectrum', '12', 'this', 'films', 'portrayal', 'of', 'relationships', 'and', 'themes', 'may', 'leave', 'many', 'viewers', 'uncomfortable', 'it', 'tests', 'the', 'limits', 'of', 'what', 'some', 'may', 'find', 'acceptable', 'in', 'mainstream', 'cinema', 'so', 'while', 'the', 'idea', 'of', 'keeping', 'an', 'open', 'mind', 'is', 'essential', 'in', 'filmwatching', 'this', 'particular', 'movie', 'might', 'push', 'that', 'openness', 'to', 'its', 'boundaries', 'for', 'some', 'its', 'clear', 'that', 'the', 'movie', 'has', 'both', 'its', 'enthusiasts', 'and', 'critics', 'while', 'it', 'may', 'not', 'be', 'to', 'everyones', 'taste', 'its', 'worth', 'watching', 'with', 'an', 'open', 'mind', 'to', 'form', 'your', 'own', 'opinion']\n"
          ]
        }
      ],
      "source": [
        "positive_words = tokenize(lower_positive_reviews)\n",
        "negative_words = tokenize(lower_negative_reviews)\n",
        "print(\"Positive Reviews:\", positive_words)\n",
        "print(\"Negative Reviews:\", negative_words)"
      ]
    },
    {
      "cell_type": "markdown",
      "metadata": {
        "id": "FXyjW8iZIap4"
      },
      "source": [
        "### **Lemmatization, and Remove Stop Words**"
      ]
    },
    {
      "cell_type": "code",
      "execution_count": 428,
      "metadata": {
        "colab": {
          "base_uri": "https://localhost:8080/"
        },
        "id": "YNRzC1EF35X1",
        "outputId": "3ac095ce-b3b3-4dfe-e154-fc059f0f78b3"
      },
      "outputs": [
        {
          "name": "stdout",
          "output_type": "stream",
          "text": [
            "Positive Reviews (Preprocessed): ['forrest', 'gump', 'absolute', 'masterpiece', 'tom', 'hank', 'delivers', 'unforgettable', 'performance', 'storytelling', 'heartwarming', 'movie', 'journey', 'life', 'make', 'laugh', 'cry', 'appreciate', 'simple', 'beauty', 'existence', 'shawshank', 'redemption', 'timeless', 'classic', 'powerful', 'theme', 'hope', 'friendship', 'redemption', 'make', 'mustwatch', 'morgan', 'freeman', 'tim', 'robbins', 'give', 'exceptional', 'performance', 'brilliantly', 'craft', 'film', 'epic', 'conclusion', 'lord', 'ring', 'trilogy', 'return', 'king', 'cinematic', 'triumph', 'breathtaking', 'visuals', 'epic', 'battle', 'emotionally', 'resonant', 'story', 'make', 'monumental', 'achievement', 'filmmaking', 'la', 'la', 'land', 'love', 'letter', 'magic', 'hollywood', 'dream', 'chemistry', 'ryan', 'gosling', 'emma', 'stone', 'enchant', 'music', 'dance', 'sequence', 'pure', 'delight', 'modern', 'musical', 'masterpiece', 'wes', 'anderson', 'whimsical', 'style', 'shine', 'grand', 'budapest', 'hotel', 'quirky', 'character', 'colorful', 'cinematography', 'visual', 'narrative', 'delight', 'film', 'charm', 'delightful', 'experience', 'mindbending', 'brilliance', 'christopher', 'nolans', 'intricate', 'plot', 'stun', 'visual', 'effect', 'hans', 'zimmer', 'haunt', 'score', 'create', 'cinematic', 'journey', 'keep', 'edge', 'seat', 'true', 'masterpiece', 'scifi', 'cinema', 'social', 'network', 'captivate', 'exploration', 'creation', 'facebook', 'personal', 'legal', 'conflict', 'ensue', 'david', 'finchers', 'direction', 'aaron', 'sorkins', 'sharp', 'screenplay', 'make', 'film', 'modern', 'classic', 'smith', 'portrayal', 'chris', 'gardner', 'pursuit', 'happyness', 'touch', 'inspirational', 'film', 'remind', 'u', 'determination', 'unwavering', 'spirit', 'anyone', 'overcome', 'adversity', 'achieve', 'dream', 'eternal', 'sunshine', 'spotless', 'mind', 'beautifully', 'unconventional', 'love', 'story', 'jim', 'carrey', 'kate', 'winslet', 'shine', 'role', 'narrative', 'tell', 'nonlinear', 'fashion', 'poignant', 'exploration', 'love', 'memory', 'human', 'connection', 'princess', 'bride', 'timeless', 'fairy', 'tale', 'perfect', 'blend', 'humor', 'romance', 'adventure', 'witty', 'dialogue', 'memorable', 'character', 'make', 'film', 'appeal', 'kid', 'adult', 'inconceivably', 'delightful', 'fifty', 'shade', 'grey', 'manage', 'captivate', 'enthusiast', 'critic', 'alike', 'film', 'ability', 'spark', 'passionate', 'discussion', 'elicit', 'wide', 'range', 'opinion', 'testament', 'impact', 'may', 'find', 'controversial', 'there', 'deny', 'leave', 'significant', 'mark', 'world', 'cinema', 'film', 'conversation', 'starter', 'clear', 'wont', 'everyones', 'cup', 'tea', 'willing', 'approach', 'open', 'mind', 'there', 'visually', 'lush', 'experience', 'moment', 'genuine', 'chemistry', 'lead', 'film', 'manage', 'offer', 'something', 'different', 'intriguing', 'world', 'romance', 'drama']\n",
            "Negative Reviews (Preprocessed): ['last', 'airbender', 'disaster', 'film', 'adaptation', 'butcher', 'beloved', 'animated', 'series', 'wooden', 'act', 'convolute', 'storytelling', 'cringeworthy', 'special', 'effect', 'letdown', 'fan', 'newcomer', 'alike', 'another', 'transformer', 'movie', 'mindless', 'explosion', 'incoherent', 'plotlines', 'overreliance', 'cgi', 'franchise', 'desperately', 'need', 'overhaul', 'emoji', 'movie', 'blatant', 'cash', 'grab', 'shallow', 'uninspired', 'plot', 'fails', 'deliver', 'clever', 'humor', 'meaningful', 'message', 'make', 'forgettable', 'disappointing', 'animate', 'film', 'fifty', 'shade', 'grey', 'cringeinducing', 'attempt', 'romance', 'poorly', 'write', 'dialogue', 'unconvincing', 'chemistry', 'lead', 'make', 'awkward', 'unfulfilling', 'cinematic', 'experience', 'jack', 'jill', 'unbearable', 'comedy', 'relies', 'stale', 'humor', 'painfully', 'unfunny', 'portrayal', 'adam', 'sandler', 'dual', 'role', 'prime', 'example', 'lazy', 'filmmaking', 'superman', 'iv', 'colossal', 'disappointment', 'mar', 'low', 'budget', 'laughable', 'special', 'effect', 'poorly', 'conceive', 'story', 'even', 'christopher', 'reef', 'charm', 'cant', 'save', 'mess', 'cat', 'hat', 'chaotic', 'misguide', 'adaptation', 'dr', 'seusss', 'classic', 'sacrifice', 'charm', 'simplicity', 'source', 'material', 'crude', 'humor', 'lackluster', 'narrative', 'room', 'widely', 'regard', 'one', 'bad', 'film', 'ever', 'make', 'disjoint', 'plot', 'stilted', 'act', 'bizarre', 'dialogue', 'turn', 'cult', 'classic', 'right', 'reason', 'battlefield', 'earth', 'scifi', 'disaster', 'convolute', 'mess', 'hammy', 'act', 'laughable', 'special', 'effect', 'film', 'remain', 'buried', 'annals', 'cinematic', 'history', 'gigli', 'train', 'wreck', 'romantic', 'comedy', 'pair', 'ben', 'affleck', 'jennifer', 'lopez', 'devoid', 'chemistry', 'dialogue', 'cringeworthy', 'embarrass', 'misstep', 'career', 'fifty', 'shade', 'grey', 'film', 'divide', 'enthusiast', 'critic', 'share', 'devote', 'fan', 'also', 'face', 'substantial', 'criticism', 'film', 'content', 'execution', 'leave', 'much', 'desire', 'make', 'polarize', 'cinematic', 'experience', 'viewer', 'reaction', 'may', 'vary', 'widely', 'movie', 'evokes', 'strong', 'opinion', 'end', 'spectrum', 'film', 'portrayal', 'relationship', 'theme', 'may', 'leave', 'many', 'viewer', 'uncomfortable', 'test', 'limit', 'may', 'find', 'acceptable', 'mainstream', 'cinema', 'idea', 'keep', 'open', 'mind', 'essential', 'filmwatching', 'particular', 'movie', 'might', 'push', 'openness', 'boundary', 'clear', 'movie', 'enthusiast', 'critic', 'may', 'everyones', 'taste', 'worth', 'watch', 'open', 'mind', 'form', 'opinion']\n"
          ]
        }
      ],
      "source": [
        "def get_wordnet_pos(tag):\n",
        "    # Map POS tag to WordNet POS tag\n",
        "    tag_dict = {\"N\": \"n\", \"V\": \"v\", \"R\": \"r\", \"J\": \"a\"}\n",
        "    return tag_dict.get(tag[0], 'n')  # Default to noun if not found\n",
        "\n",
        "def lemmatize_words(reviews):\n",
        "    # Perform part-of-speech tagging\n",
        "    reviews_pos = pos_tag(reviews)\n",
        "\n",
        "    # Define stop words and remove them, also remove numbers\n",
        "    stop_words = set(stopwords.words(\"english\"))\n",
        "\n",
        "    reviews_filtered = [word for word, pos in reviews_pos if word not in stop_words and word.isalpha()]\n",
        "\n",
        "    # Lemmatize the filtered words based on POS\n",
        "    lemmatizer = WordNetLemmatizer()\n",
        "    reviews_lemmatized = [lemmatizer.lemmatize(word, pos=get_wordnet_pos(pos)) for word, pos in pos_tag(reviews_filtered)]\n",
        "\n",
        "    return reviews_lemmatized\n",
        "\n",
        "# Preprocess positive and negative reviews\n",
        "cleaned_positive_reviews = lemmatize_words(positive_words)\n",
        "cleaned_negative_reviews = lemmatize_words(negative_words)\n",
        "\n",
        "# Display the preprocessed reviews\n",
        "print(\"Positive Reviews (Preprocessed):\", cleaned_positive_reviews)\n",
        "print(\"Negative Reviews (Preprocessed):\", cleaned_negative_reviews)"
      ]
    },
    {
      "cell_type": "markdown",
      "metadata": {
        "id": "WJXbwzXF9mBs"
      },
      "source": [
        "# **Implement Bigram Model**"
      ]
    },
    {
      "cell_type": "code",
      "execution_count": 454,
      "metadata": {
        "id": "EJnKljxD6G-0"
      },
      "outputs": [],
      "source": [
        "# create bigrams for positive and negative reviews\n",
        "positive_bigrams = list(bigrams(cleaned_positive_reviews))\n",
        "negative_bigrams = list(bigrams(cleaned_negative_reviews))"
      ]
    },
    {
      "cell_type": "code",
      "execution_count": null,
      "metadata": {
        "id": "HIUPkz8u7QoW"
      },
      "outputs": [],
      "source": [
        "# Calculate frequency for positive bigrams\n",
        "for bigram in positive_bigrams:\n",
        "    bigram_count = positive_bigrams.count(bigram)\n",
        "    print(f\"{bigram}: {bigram_count}\")"
      ]
    },
    {
      "cell_type": "code",
      "execution_count": null,
      "metadata": {
        "id": "ftxPU1JQWb3Y"
      },
      "outputs": [],
      "source": [
        "# Calculate frequency for negative bigrams\n",
        "for bigram in negative_bigrams:\n",
        "    bigram_count = negative_bigrams.count(bigram)\n",
        "    print(f\"{bigram}: {bigram_count}\")"
      ]
    },
    {
      "cell_type": "code",
      "execution_count": 457,
      "metadata": {
        "id": "KhbzqM7rCZTX"
      },
      "outputs": [],
      "source": [
        "# Function to calculate bigram probabilities\n",
        "def calculate_bigram_probabilities(bigrams,unigrams):\n",
        "    bigram_probabilities = {}\n",
        "    for bigram in bigrams:\n",
        "        word1, word2 = bigram\n",
        "        bigram_count = bigrams.count(bigram)\n",
        "        unigram_count = unigrams.count(word1)\n",
        "        bigram_probabilities[bigram] = (bigram_count) / (unigram_count)\n",
        "\n",
        "    return bigram_probabilities\n"
      ]
    },
    {
      "cell_type": "code",
      "execution_count": 458,
      "metadata": {
        "colab": {
          "base_uri": "https://localhost:8080/"
        },
        "id": "Rc35TA0BLqae",
        "outputId": "56ce881e-5814-4995-d55e-66a73f725312"
      },
      "outputs": [
        {
          "name": "stdout",
          "output_type": "stream",
          "text": [
            "Positive Bigram Probabilities: \n",
            " {('forrest', 'gump'): 1.0, ('gump', 'absolute'): 1.0, ('absolute', 'masterpiece'): 1.0, ('masterpiece', 'tom'): 0.3333333333333333, ('tom', 'hank'): 1.0, ('hank', 'delivers'): 1.0, ('delivers', 'unforgettable'): 1.0, ('unforgettable', 'performance'): 1.0, ('performance', 'storytelling'): 0.5, ('storytelling', 'heartwarming'): 1.0, ('heartwarming', 'movie'): 1.0, ('movie', 'journey'): 1.0, ('journey', 'life'): 0.5, ('life', 'make'): 1.0, ('make', 'laugh'): 0.2, ('laugh', 'cry'): 1.0, ('cry', 'appreciate'): 1.0, ('appreciate', 'simple'): 1.0, ('simple', 'beauty'): 1.0, ('beauty', 'existence'): 1.0, ('existence', 'shawshank'): 1.0, ('shawshank', 'redemption'): 1.0, ('redemption', 'timeless'): 0.5, ('timeless', 'classic'): 0.5, ('classic', 'powerful'): 0.5, ('powerful', 'theme'): 1.0, ('theme', 'hope'): 1.0, ('hope', 'friendship'): 1.0, ('friendship', 'redemption'): 1.0, ('redemption', 'make'): 0.5, ('make', 'mustwatch'): 0.2, ('mustwatch', 'morgan'): 1.0, ('morgan', 'freeman'): 1.0, ('freeman', 'tim'): 1.0, ('tim', 'robbins'): 1.0, ('robbins', 'give'): 1.0, ('give', 'exceptional'): 1.0, ('exceptional', 'performance'): 1.0, ('performance', 'brilliantly'): 0.5, ('brilliantly', 'craft'): 1.0, ('craft', 'film'): 1.0, ('film', 'epic'): 0.125, ('epic', 'conclusion'): 0.5, ('conclusion', 'lord'): 1.0, ('lord', 'ring'): 1.0, ('ring', 'trilogy'): 1.0, ('trilogy', 'return'): 1.0, ('return', 'king'): 1.0, ('king', 'cinematic'): 1.0, ('cinematic', 'triumph'): 0.5, ('triumph', 'breathtaking'): 1.0, ('breathtaking', 'visuals'): 1.0, ('visuals', 'epic'): 1.0, ('epic', 'battle'): 0.5, ('battle', 'emotionally'): 1.0, ('emotionally', 'resonant'): 1.0, ('resonant', 'story'): 1.0, ('story', 'make'): 0.5, ('make', 'monumental'): 0.2, ('monumental', 'achievement'): 1.0, ('achievement', 'filmmaking'): 1.0, ('filmmaking', 'la'): 1.0, ('la', 'la'): 0.5, ('la', 'land'): 0.5, ('land', 'love'): 1.0, ('love', 'letter'): 0.3333333333333333, ('letter', 'magic'): 1.0, ('magic', 'hollywood'): 1.0, ('hollywood', 'dream'): 1.0, ('dream', 'chemistry'): 0.5, ('chemistry', 'ryan'): 0.5, ('ryan', 'gosling'): 1.0, ('gosling', 'emma'): 1.0, ('emma', 'stone'): 1.0, ('stone', 'enchant'): 1.0, ('enchant', 'music'): 1.0, ('music', 'dance'): 1.0, ('dance', 'sequence'): 1.0, ('sequence', 'pure'): 1.0, ('pure', 'delight'): 1.0, ('delight', 'modern'): 0.5, ('modern', 'musical'): 0.5, ('musical', 'masterpiece'): 1.0, ('masterpiece', 'wes'): 0.3333333333333333, ('wes', 'anderson'): 1.0, ('anderson', 'whimsical'): 1.0, ('whimsical', 'style'): 1.0, ('style', 'shine'): 1.0, ('shine', 'grand'): 0.5, ('grand', 'budapest'): 1.0, ('budapest', 'hotel'): 1.0, ('hotel', 'quirky'): 1.0, ('quirky', 'character'): 1.0, ('character', 'colorful'): 0.5, ('colorful', 'cinematography'): 1.0, ('cinematography', 'visual'): 1.0, ('visual', 'narrative'): 0.5, ('narrative', 'delight'): 0.5, ('delight', 'film'): 0.5, ('film', 'charm'): 0.125, ('charm', 'delightful'): 1.0, ('delightful', 'experience'): 0.5, ('experience', 'mindbending'): 0.5, ('mindbending', 'brilliance'): 1.0, ('brilliance', 'christopher'): 1.0, ('christopher', 'nolans'): 1.0, ('nolans', 'intricate'): 1.0, ('intricate', 'plot'): 1.0, ('plot', 'stun'): 1.0, ('stun', 'visual'): 1.0, ('visual', 'effect'): 0.5, ('effect', 'hans'): 1.0, ('hans', 'zimmer'): 1.0, ('zimmer', 'haunt'): 1.0, ('haunt', 'score'): 1.0, ('score', 'create'): 1.0, ('create', 'cinematic'): 1.0, ('cinematic', 'journey'): 0.5, ('journey', 'keep'): 0.5, ('keep', 'edge'): 1.0, ('edge', 'seat'): 1.0, ('seat', 'true'): 1.0, ('true', 'masterpiece'): 1.0, ('masterpiece', 'scifi'): 0.3333333333333333, ('scifi', 'cinema'): 1.0, ('cinema', 'social'): 0.5, ('social', 'network'): 1.0, ('network', 'captivate'): 1.0, ('captivate', 'exploration'): 0.5, ('exploration', 'creation'): 0.5, ('creation', 'facebook'): 1.0, ('facebook', 'personal'): 1.0, ('personal', 'legal'): 1.0, ('legal', 'conflict'): 1.0, ('conflict', 'ensue'): 1.0, ('ensue', 'david'): 1.0, ('david', 'finchers'): 1.0, ('finchers', 'direction'): 1.0, ('direction', 'aaron'): 1.0, ('aaron', 'sorkins'): 1.0, ('sorkins', 'sharp'): 1.0, ('sharp', 'screenplay'): 1.0, ('screenplay', 'make'): 1.0, ('make', 'film'): 0.4, ('film', 'modern'): 0.125, ('modern', 'classic'): 0.5, ('classic', 'smith'): 0.5, ('smith', 'portrayal'): 1.0, ('portrayal', 'chris'): 1.0, ('chris', 'gardner'): 1.0, ('gardner', 'pursuit'): 1.0, ('pursuit', 'happyness'): 1.0, ('happyness', 'touch'): 1.0, ('touch', 'inspirational'): 1.0, ('inspirational', 'film'): 1.0, ('film', 'remind'): 0.125, ('remind', 'u'): 1.0, ('u', 'determination'): 1.0, ('determination', 'unwavering'): 1.0, ('unwavering', 'spirit'): 1.0, ('spirit', 'anyone'): 1.0, ('anyone', 'overcome'): 1.0, ('overcome', 'adversity'): 1.0, ('adversity', 'achieve'): 1.0, ('achieve', 'dream'): 1.0, ('dream', 'eternal'): 0.5, ('eternal', 'sunshine'): 1.0, ('sunshine', 'spotless'): 1.0, ('spotless', 'mind'): 1.0, ('mind', 'beautifully'): 0.5, ('beautifully', 'unconventional'): 1.0, ('unconventional', 'love'): 1.0, ('love', 'story'): 0.3333333333333333, ('story', 'jim'): 0.5, ('jim', 'carrey'): 1.0, ('carrey', 'kate'): 1.0, ('kate', 'winslet'): 1.0, ('winslet', 'shine'): 1.0, ('shine', 'role'): 0.5, ('role', 'narrative'): 1.0, ('narrative', 'tell'): 0.5, ('tell', 'nonlinear'): 1.0, ('nonlinear', 'fashion'): 1.0, ('fashion', 'poignant'): 1.0, ('poignant', 'exploration'): 1.0, ('exploration', 'love'): 0.5, ('love', 'memory'): 0.3333333333333333, ('memory', 'human'): 1.0, ('human', 'connection'): 1.0, ('connection', 'princess'): 1.0, ('princess', 'bride'): 1.0, ('bride', 'timeless'): 1.0, ('timeless', 'fairy'): 0.5, ('fairy', 'tale'): 1.0, ('tale', 'perfect'): 1.0, ('perfect', 'blend'): 1.0, ('blend', 'humor'): 1.0, ('humor', 'romance'): 1.0, ('romance', 'adventure'): 0.5, ('adventure', 'witty'): 1.0, ('witty', 'dialogue'): 1.0, ('dialogue', 'memorable'): 1.0, ('memorable', 'character'): 1.0, ('character', 'make'): 0.5, ('film', 'appeal'): 0.125, ('appeal', 'kid'): 1.0, ('kid', 'adult'): 1.0, ('adult', 'inconceivably'): 1.0, ('inconceivably', 'delightful'): 1.0, ('delightful', 'fifty'): 0.5, ('fifty', 'shade'): 1.0, ('shade', 'grey'): 1.0, ('grey', 'manage'): 1.0, ('manage', 'captivate'): 0.5, ('captivate', 'enthusiast'): 0.5, ('enthusiast', 'critic'): 1.0, ('critic', 'alike'): 1.0, ('alike', 'film'): 1.0, ('film', 'ability'): 0.125, ('ability', 'spark'): 1.0, ('spark', 'passionate'): 1.0, ('passionate', 'discussion'): 1.0, ('discussion', 'elicit'): 1.0, ('elicit', 'wide'): 1.0, ('wide', 'range'): 1.0, ('range', 'opinion'): 1.0, ('opinion', 'testament'): 1.0, ('testament', 'impact'): 1.0, ('impact', 'may'): 1.0, ('may', 'find'): 1.0, ('find', 'controversial'): 1.0, ('controversial', 'there'): 1.0, ('there', 'deny'): 0.5, ('deny', 'leave'): 1.0, ('leave', 'significant'): 1.0, ('significant', 'mark'): 1.0, ('mark', 'world'): 1.0, ('world', 'cinema'): 0.5, ('cinema', 'film'): 0.5, ('film', 'conversation'): 0.125, ('conversation', 'starter'): 1.0, ('starter', 'clear'): 1.0, ('clear', 'wont'): 1.0, ('wont', 'everyones'): 1.0, ('everyones', 'cup'): 1.0, ('cup', 'tea'): 1.0, ('tea', 'willing'): 1.0, ('willing', 'approach'): 1.0, ('approach', 'open'): 1.0, ('open', 'mind'): 1.0, ('mind', 'there'): 0.5, ('there', 'visually'): 0.5, ('visually', 'lush'): 1.0, ('lush', 'experience'): 1.0, ('experience', 'moment'): 0.5, ('moment', 'genuine'): 1.0, ('genuine', 'chemistry'): 1.0, ('chemistry', 'lead'): 0.5, ('lead', 'film'): 1.0, ('film', 'manage'): 0.125, ('manage', 'offer'): 0.5, ('offer', 'something'): 1.0, ('something', 'different'): 1.0, ('different', 'intriguing'): 1.0, ('intriguing', 'world'): 1.0, ('world', 'romance'): 0.5, ('romance', 'drama'): 0.5}\n",
            "Negative Bigram Probabilities: \n",
            " {('last', 'airbender'): 1.0, ('airbender', 'disaster'): 1.0, ('disaster', 'film'): 0.5, ('film', 'adaptation'): 0.14285714285714285, ('adaptation', 'butcher'): 0.5, ('butcher', 'beloved'): 1.0, ('beloved', 'animated'): 1.0, ('animated', 'series'): 1.0, ('series', 'wooden'): 1.0, ('wooden', 'act'): 1.0, ('act', 'convolute'): 0.3333333333333333, ('convolute', 'storytelling'): 0.5, ('storytelling', 'cringeworthy'): 1.0, ('cringeworthy', 'special'): 0.5, ('special', 'effect'): 1.0, ('effect', 'letdown'): 0.3333333333333333, ('letdown', 'fan'): 1.0, ('fan', 'newcomer'): 0.5, ('newcomer', 'alike'): 1.0, ('alike', 'another'): 1.0, ('another', 'transformer'): 1.0, ('transformer', 'movie'): 1.0, ('movie', 'mindless'): 0.2, ('mindless', 'explosion'): 1.0, ('explosion', 'incoherent'): 1.0, ('incoherent', 'plotlines'): 1.0, ('plotlines', 'overreliance'): 1.0, ('overreliance', 'cgi'): 1.0, ('cgi', 'franchise'): 1.0, ('franchise', 'desperately'): 1.0, ('desperately', 'need'): 1.0, ('need', 'overhaul'): 1.0, ('overhaul', 'emoji'): 1.0, ('emoji', 'movie'): 1.0, ('movie', 'blatant'): 0.2, ('blatant', 'cash'): 1.0, ('cash', 'grab'): 1.0, ('grab', 'shallow'): 1.0, ('shallow', 'uninspired'): 1.0, ('uninspired', 'plot'): 1.0, ('plot', 'fails'): 0.5, ('fails', 'deliver'): 1.0, ('deliver', 'clever'): 1.0, ('clever', 'humor'): 1.0, ('humor', 'meaningful'): 0.3333333333333333, ('meaningful', 'message'): 1.0, ('message', 'make'): 1.0, ('make', 'forgettable'): 0.25, ('forgettable', 'disappointing'): 1.0, ('disappointing', 'animate'): 1.0, ('animate', 'film'): 1.0, ('film', 'fifty'): 0.14285714285714285, ('fifty', 'shade'): 1.0, ('shade', 'grey'): 1.0, ('grey', 'cringeinducing'): 0.5, ('cringeinducing', 'attempt'): 1.0, ('attempt', 'romance'): 1.0, ('romance', 'poorly'): 1.0, ('poorly', 'write'): 0.5, ('write', 'dialogue'): 1.0, ('dialogue', 'unconvincing'): 0.3333333333333333, ('unconvincing', 'chemistry'): 1.0, ('chemistry', 'lead'): 0.5, ('lead', 'make'): 1.0, ('make', 'awkward'): 0.25, ('awkward', 'unfulfilling'): 1.0, ('unfulfilling', 'cinematic'): 1.0, ('cinematic', 'experience'): 0.6666666666666666, ('experience', 'jack'): 0.5, ('jack', 'jill'): 1.0, ('jill', 'unbearable'): 1.0, ('unbearable', 'comedy'): 1.0, ('comedy', 'relies'): 0.5, ('relies', 'stale'): 1.0, ('stale', 'humor'): 1.0, ('humor', 'painfully'): 0.3333333333333333, ('painfully', 'unfunny'): 1.0, ('unfunny', 'portrayal'): 1.0, ('portrayal', 'adam'): 0.5, ('adam', 'sandler'): 1.0, ('sandler', 'dual'): 1.0, ('dual', 'role'): 1.0, ('role', 'prime'): 1.0, ('prime', 'example'): 1.0, ('example', 'lazy'): 1.0, ('lazy', 'filmmaking'): 1.0, ('filmmaking', 'superman'): 1.0, ('superman', 'iv'): 1.0, ('iv', 'colossal'): 1.0, ('colossal', 'disappointment'): 1.0, ('disappointment', 'mar'): 1.0, ('mar', 'low'): 1.0, ('low', 'budget'): 1.0, ('budget', 'laughable'): 1.0, ('laughable', 'special'): 1.0, ('effect', 'poorly'): 0.3333333333333333, ('poorly', 'conceive'): 0.5, ('conceive', 'story'): 1.0, ('story', 'even'): 1.0, ('even', 'christopher'): 1.0, ('christopher', 'reef'): 1.0, ('reef', 'charm'): 1.0, ('charm', 'cant'): 0.5, ('cant', 'save'): 1.0, ('save', 'mess'): 1.0, ('mess', 'cat'): 0.5, ('cat', 'hat'): 1.0, ('hat', 'chaotic'): 1.0, ('chaotic', 'misguide'): 1.0, ('misguide', 'adaptation'): 1.0, ('adaptation', 'dr'): 0.5, ('dr', 'seusss'): 1.0, ('seusss', 'classic'): 1.0, ('classic', 'sacrifice'): 0.5, ('sacrifice', 'charm'): 1.0, ('charm', 'simplicity'): 0.5, ('simplicity', 'source'): 1.0, ('source', 'material'): 1.0, ('material', 'crude'): 1.0, ('crude', 'humor'): 1.0, ('humor', 'lackluster'): 0.3333333333333333, ('lackluster', 'narrative'): 1.0, ('narrative', 'room'): 1.0, ('room', 'widely'): 1.0, ('widely', 'regard'): 0.5, ('regard', 'one'): 1.0, ('one', 'bad'): 1.0, ('bad', 'film'): 1.0, ('film', 'ever'): 0.14285714285714285, ('ever', 'make'): 1.0, ('make', 'disjoint'): 0.25, ('disjoint', 'plot'): 1.0, ('plot', 'stilted'): 0.5, ('stilted', 'act'): 1.0, ('act', 'bizarre'): 0.3333333333333333, ('bizarre', 'dialogue'): 1.0, ('dialogue', 'turn'): 0.3333333333333333, ('turn', 'cult'): 1.0, ('cult', 'classic'): 1.0, ('classic', 'right'): 0.5, ('right', 'reason'): 1.0, ('reason', 'battlefield'): 1.0, ('battlefield', 'earth'): 1.0, ('earth', 'scifi'): 1.0, ('scifi', 'disaster'): 1.0, ('disaster', 'convolute'): 0.5, ('convolute', 'mess'): 0.5, ('mess', 'hammy'): 0.5, ('hammy', 'act'): 1.0, ('act', 'laughable'): 0.3333333333333333, ('effect', 'film'): 0.3333333333333333, ('film', 'remain'): 0.14285714285714285, ('remain', 'buried'): 1.0, ('buried', 'annals'): 1.0, ('annals', 'cinematic'): 1.0, ('cinematic', 'history'): 0.3333333333333333, ('history', 'gigli'): 1.0, ('gigli', 'train'): 1.0, ('train', 'wreck'): 1.0, ('wreck', 'romantic'): 1.0, ('romantic', 'comedy'): 1.0, ('comedy', 'pair'): 0.5, ('pair', 'ben'): 1.0, ('ben', 'affleck'): 1.0, ('affleck', 'jennifer'): 1.0, ('jennifer', 'lopez'): 1.0, ('lopez', 'devoid'): 1.0, ('devoid', 'chemistry'): 1.0, ('chemistry', 'dialogue'): 0.5, ('dialogue', 'cringeworthy'): 0.3333333333333333, ('cringeworthy', 'embarrass'): 0.5, ('embarrass', 'misstep'): 1.0, ('misstep', 'career'): 1.0, ('career', 'fifty'): 1.0, ('grey', 'film'): 0.5, ('film', 'divide'): 0.14285714285714285, ('divide', 'enthusiast'): 1.0, ('enthusiast', 'critic'): 1.0, ('critic', 'share'): 0.5, ('share', 'devote'): 1.0, ('devote', 'fan'): 1.0, ('fan', 'also'): 0.5, ('also', 'face'): 1.0, ('face', 'substantial'): 1.0, ('substantial', 'criticism'): 1.0, ('criticism', 'film'): 1.0, ('film', 'content'): 0.14285714285714285, ('content', 'execution'): 1.0, ('execution', 'leave'): 1.0, ('leave', 'much'): 0.5, ('much', 'desire'): 1.0, ('desire', 'make'): 1.0, ('make', 'polarize'): 0.25, ('polarize', 'cinematic'): 1.0, ('experience', 'viewer'): 0.5, ('viewer', 'reaction'): 0.5, ('reaction', 'may'): 1.0, ('may', 'vary'): 0.25, ('vary', 'widely'): 1.0, ('widely', 'movie'): 0.5, ('movie', 'evokes'): 0.2, ('evokes', 'strong'): 1.0, ('strong', 'opinion'): 1.0, ('opinion', 'end'): 0.5, ('end', 'spectrum'): 1.0, ('spectrum', 'film'): 1.0, ('film', 'portrayal'): 0.14285714285714285, ('portrayal', 'relationship'): 0.5, ('relationship', 'theme'): 1.0, ('theme', 'may'): 1.0, ('may', 'leave'): 0.25, ('leave', 'many'): 0.5, ('many', 'viewer'): 1.0, ('viewer', 'uncomfortable'): 0.5, ('uncomfortable', 'test'): 1.0, ('test', 'limit'): 1.0, ('limit', 'may'): 1.0, ('may', 'find'): 0.25, ('find', 'acceptable'): 1.0, ('acceptable', 'mainstream'): 1.0, ('mainstream', 'cinema'): 1.0, ('cinema', 'idea'): 1.0, ('idea', 'keep'): 1.0, ('keep', 'open'): 1.0, ('open', 'mind'): 1.0, ('mind', 'essential'): 0.5, ('essential', 'filmwatching'): 1.0, ('filmwatching', 'particular'): 1.0, ('particular', 'movie'): 1.0, ('movie', 'might'): 0.2, ('might', 'push'): 1.0, ('push', 'openness'): 1.0, ('openness', 'boundary'): 1.0, ('boundary', 'clear'): 1.0, ('clear', 'movie'): 1.0, ('movie', 'enthusiast'): 0.2, ('critic', 'may'): 0.5, ('may', 'everyones'): 0.25, ('everyones', 'taste'): 1.0, ('taste', 'worth'): 1.0, ('worth', 'watch'): 1.0, ('watch', 'open'): 1.0, ('mind', 'form'): 0.5, ('form', 'opinion'): 1.0}\n"
          ]
        }
      ],
      "source": [
        "# get the bigram probabilities\n",
        "positive_bigram_probabilities = calculate_bigram_probabilities(positive_bigrams,cleaned_positive_reviews)\n",
        "negative_bigram_probabilities = calculate_bigram_probabilities(negative_bigrams,cleaned_negative_reviews)\n",
        "\n",
        "print(\"Positive Bigram Probabilities: \\n\",positive_bigram_probabilities)\n",
        "print(\"Negative Bigram Probabilities: \\n\",negative_bigram_probabilities)"
      ]
    },
    {
      "cell_type": "code",
      "execution_count": 459,
      "metadata": {
        "id": "mC4IIWd-8ihG"
      },
      "outputs": [],
      "source": [
        "# Test movie review\n",
        "test_review = \"It's clear that the movie has both its enthusiasts and critics. While it may not be to everyone's taste, it's worth watching with an open mind to form your own opinion.\"\n"
      ]
    },
    {
      "cell_type": "code",
      "execution_count": 460,
      "metadata": {
        "id": "1bVM0Z6bjjuW"
      },
      "outputs": [],
      "source": [
        "\n",
        "def movie_review_classifier(test_review):\n",
        "    N = 2\n",
        "\n",
        "    # Remove punctuation and stop words, tokenize and lemmatize the words in the test_review\n",
        "    test_review_without_punctuations = ''.join([char for char in test_review if char not in string.punctuation])\n",
        "    test_words = tokenize(test_review_without_punctuations)\n",
        "    test_words = lemmatize_words(test_words)\n",
        "\n",
        "    # Generate bigrams for the test review\n",
        "    test_bigrams = list(bigrams(test_words))\n",
        "\n",
        "    # Calculate the bi-gram probability for the test review\n",
        "    positive_probability = 1.0\n",
        "    negative_probability = 1.0\n",
        "\n",
        "    # Calculate probabilities for positive bigrams\n",
        "    for bigram in test_bigrams:\n",
        "        if bigram in positive_bigram_probabilities:\n",
        "            positive_probability *= positive_bigram_probabilities[bigram]\n",
        "\n",
        "    # Calculate probabilities for negative bigrams\n",
        "    for bigram in test_bigrams:\n",
        "        if bigram in negative_bigram_probabilities:\n",
        "            negative_probability *= negative_bigram_probabilities[bigram]\n",
        "\n",
        "    # Predict the category of the test movie review\n",
        "    if positive_probability > negative_probability:\n",
        "       prediction_explanation = \"The review is classified as positive.\"\n",
        "    elif positive_probability < negative_probability:\n",
        "       prediction_explanation = \"The review is classified as negative.\"\n",
        "    else:\n",
        "       prediction_explanation = \"The review is classified as neutral.\"\n",
        "\n",
        "    print(f\"Positive Probability: {positive_probability}\")\n",
        "    print(f\"Negative Probability: {negative_probability}\")\n",
        "    return prediction_explanation"
      ]
    },
    {
      "cell_type": "code",
      "execution_count": 461,
      "metadata": {
        "colab": {
          "base_uri": "https://localhost:8080/"
        },
        "id": "JPiDn25y6XCD",
        "outputId": "3e7416e1-58f4-4ac9-c9f1-1f8f46f852f8"
      },
      "outputs": [
        {
          "name": "stdout",
          "output_type": "stream",
          "text": [
            "Positive Probability: 1.0\n",
            "Negative Probability: 1.0\n",
            "The review is classified as neutral.\n"
          ]
        }
      ],
      "source": [
        "# get the output of the predicted category\n",
        "output = movie_review_classifier(test_review)\n",
        "print(output)"
      ]
    }
  ],
  "metadata": {
    "colab": {
      "provenance": []
    },
    "kernelspec": {
      "display_name": "Python 3",
      "name": "python3"
    },
    "language_info": {
      "name": "python"
    }
  },
  "nbformat": 4,
  "nbformat_minor": 0
}
